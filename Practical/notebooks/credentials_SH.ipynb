{
 "cells": [
  {
   "cell_type": "code",
   "execution_count": null,
   "id": "872142e4-9880-4595-9872-06af72c2565d",
   "metadata": {},
   "outputs": [],
   "source": [
    "# read the credentials\n",
    "f = open('sentinelhub.id', 'r')\n",
    "for _ in range(3):\n",
    "    exec(f.readline())"
   ]
  },
  {
   "cell_type": "code",
   "execution_count": null,
   "id": "0ca3a19f-c70e-4d40-8ea1-7795ffa70964",
   "metadata": {},
   "outputs": [],
   "source": [
    "!sentinelhub.config --instance_id \"$INSTANCE_ID\" --sh_client_id \"$CLIENT_ID\" --sh_client_secret \"$CLIENT_SECRET\""
   ]
  },
  {
   "cell_type": "code",
   "execution_count": null,
   "id": "d954492a-70e7-41ca-980c-64f2418e7ce4",
   "metadata": {},
   "outputs": [],
   "source": [
    "# confirm the values have been set \n",
    "!sentinelhub.config --show"
   ]
  }
 ],
 "metadata": {
  "kernelspec": {
   "display_name": "statapi",
   "language": "python",
   "name": "python3"
  },
  "language_info": {
   "codemirror_mode": {
    "name": "ipython",
    "version": 3
   },
   "file_extension": ".py",
   "mimetype": "text/x-python",
   "name": "python",
   "nbconvert_exporter": "python",
   "pygments_lexer": "ipython3",
   "version": "3.10.9"
  }
 },
 "nbformat": 4,
 "nbformat_minor": 5
}
